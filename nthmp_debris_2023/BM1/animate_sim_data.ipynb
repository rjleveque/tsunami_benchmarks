{
 "cells": [
  {
   "cell_type": "markdown",
   "id": "0990dd5b",
   "metadata": {},
   "source": [
    "# Animate simulation data\n",
    "\n",
    "Python version of `sim_data_BM1/animate_sim_data.m`.\n",
    "\n",
    "Work in progress for [NTHMP Debris Modeling Benchmarking Workshop](http://tsunamiworkshop.org/index.html), May 2023, by the [UW Tsunami Modeling Group](http://depts.washington.edu/ptha/).\n",
    "\n",
    "Read in the data provided in `sim_data_BM1` and make an animation of the results, based on the Matlab script `sim_data_BM1/animate_sim_data.m`.\n",
    "\n",
    "Requires the `sim_data_BM1` directory available from http://tsunamiworkshop.org/problems/prob1.html\n",
    "\n",
    "Uses the `animation_tools.py` module from Clawpack, [available in github](https://github.com/clawpack/visclaw/blob/master/src/python/visclaw/animation_tools.py)."
   ]
  },
  {
   "cell_type": "code",
   "execution_count": null,
   "id": "55075066",
   "metadata": {},
   "outputs": [],
   "source": [
    "%matplotlib inline"
   ]
  },
  {
   "cell_type": "code",
   "execution_count": null,
   "id": "d762e2b8",
   "metadata": {},
   "outputs": [],
   "source": [
    "from pylab import *\n",
    "import os\n",
    "import netCDF4\n",
    "from scipy.interpolate import RegularGridInterpolator\n",
    "import animation_tools\n",
    "from IPython.display import HTML"
   ]
  },
  {
   "cell_type": "code",
   "execution_count": null,
   "id": "c6cb62e9",
   "metadata": {},
   "outputs": [],
   "source": [
    "sim_data_dir = 'sim_data_BM1'"
   ]
  },
  {
   "cell_type": "code",
   "execution_count": null,
   "id": "6f24a088",
   "metadata": {},
   "outputs": [],
   "source": [
    "eta_fname = os.path.join(sim_data_dir, 'zeta.nc')\n",
    "f = netCDF4.Dataset(eta_fname, 'r')\n",
    "time_numerical = array(f.variables['time'])\n",
    "x_numerical = array(f.variables['x'])\n",
    "zeta = squeeze(array(f.variables['zeta']))  # squeeze to get rid of y-dimension index\n",
    "depth = array(f.variables['depth'])\n",
    "\n",
    "# numerical shift values - numerical domain was not same as physical domain\n",
    "x_shift=-10.  # added 10-m to offshore boundary to create wave\n",
    "t_shift=20-.74  # cut off first 20 ish seconds since nothing happened\n",
    "\n",
    "time=time_numerical+t_shift\n",
    "x=x_numerical+x_shift"
   ]
  },
  {
   "cell_type": "code",
   "execution_count": null,
   "id": "680ac95f",
   "metadata": {},
   "outputs": [],
   "source": [
    "velo_fname = os.path.join(sim_data_dir, 'velo.nc')\n",
    "f = netCDF4.Dataset(velo_fname, 'r')\n",
    "u_vel = squeeze(array(f.variables['u_velo']))  # squeeze to get rid of y-dimension index"
   ]
  },
  {
   "cell_type": "code",
   "execution_count": null,
   "id": "3b7bd801",
   "metadata": {},
   "outputs": [],
   "source": [
    "blvs_fname = os.path.join(sim_data_dir, 'blvs.nc')\n",
    "f = netCDF4.Dataset(blvs_fname, 'r')\n",
    "wet_dry = squeeze(array(f.variables['boundary_boolean']))  # wet/dry surface, =0 when wet, =99\n",
    "nu_breaking = squeeze(array(f.variables['eddy_viscosity']))  # breaking eddy viscosity, m^2/s"
   ]
  },
  {
   "cell_type": "code",
   "execution_count": null,
   "id": "327317da",
   "metadata": {},
   "outputs": [],
   "source": [
    "nu_breaking = where(wet_dry==99, nan, nu_breaking)\n",
    "zeta = where(wet_dry==99, nan, zeta)\n",
    "u_vel = where(wet_dry==99, nan, u_vel)"
   ]
  },
  {
   "cell_type": "code",
   "execution_count": null,
   "id": "0edcfb25",
   "metadata": {},
   "outputs": [],
   "source": [
    "nt = len(time)\n",
    "figs = []  # list to accumulate figures for animation\n",
    "for n in range(0,nt,100):\n",
    "    fig = figure(figsize=(10,6))\n",
    "    subplot(2,1,1)\n",
    "    plot(x,-depth,'g', label='Bottom profile')\n",
    "    plot(x,zeta[n,:],'b', label='Water Surface profile')\n",
    "\n",
    "    axis([0, 44, -1, 0.5])\n",
    "    #xlabel('Distance from Wavemaker (m)')\n",
    "    ylabel('Elevation wrt SWL (m)')\n",
    "    #title('Water Elevation at Time %.1f sec ' % time[n])\n",
    "    legend(loc='lower right', fontsize=11)\n",
    "    title('Time t = %.3f seconds' % time[n], fontsize=13)\n",
    "    grid(True)\n",
    "\n",
    "    subplot(2,1,2)\n",
    "    plot(x,u_vel[n,:],'b',label='Cross-shore velocity (m/s)')\n",
    "    axis([0, 44, -2, 3])\n",
    "    #ylabel('Cross-shore Velocity (m/s)')\n",
    "    \n",
    "    plot(x,3*nu_breaking[n,:],'r',label='3 * Eddy viscosity (m^2/s)')\n",
    "    #axis([0 44 0 1])\n",
    "    xlabel('Distance from Wavemaker (m)', fontsize=13)\n",
    "    #ylabel('Breaking Eddy Viscosity (m^2/s)')\n",
    "    #title('Cross-shore Velocity and Eddy Viscosity at Time %.1f sec ' % time[n])\n",
    "    legend(loc='upper left', fontsize=11)\n",
    "    grid(True)\n",
    "    figs.append(fig)\n",
    "    close(fig)\n",
    "    \n",
    "anim = animation_tools.animate_figs(figs, figsize=(10,6))\n",
    "HTML(anim.to_jshtml())"
   ]
  },
  {
   "cell_type": "code",
   "execution_count": null,
   "id": "5fd1c6e6",
   "metadata": {},
   "outputs": [],
   "source": []
  }
 ],
 "metadata": {
  "kernelspec": {
   "display_name": "Python 3 (ipykernel)",
   "language": "python",
   "name": "python3"
  },
  "language_info": {
   "codemirror_mode": {
    "name": "ipython",
    "version": 3
   },
   "file_extension": ".py",
   "mimetype": "text/x-python",
   "name": "python",
   "nbconvert_exporter": "python",
   "pygments_lexer": "ipython3",
   "version": "3.10.9"
  }
 },
 "nbformat": 4,
 "nbformat_minor": 5
}
