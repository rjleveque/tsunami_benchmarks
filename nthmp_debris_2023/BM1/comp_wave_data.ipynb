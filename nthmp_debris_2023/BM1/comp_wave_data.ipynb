{
 "cells": [
  {
   "cell_type": "markdown",
   "id": "1d5bf3f2",
   "metadata": {},
   "source": [
    "# Plot computed wave data\n",
    "\n",
    "Python version of `sim_data_BM1/comp_wave_data.m`.\n",
    "\n",
    "Work in progress for [NTHMP Debris Modeling Benchmarking Workshop](http://tsunamiworkshop.org/index.html), May 2023, by the [UW Tsunami Modeling Group](http://depts.washington.edu/ptha/).\n",
    "\n",
    "Requires the `sim_data_BM1` directory available from http://tsunamiworkshop.org/problems/prob1.html"
   ]
  },
  {
   "cell_type": "code",
   "execution_count": null,
   "id": "f9be02f0",
   "metadata": {},
   "outputs": [],
   "source": [
    "%matplotlib inline"
   ]
  },
  {
   "cell_type": "code",
   "execution_count": null,
   "id": "a60203d8",
   "metadata": {},
   "outputs": [],
   "source": [
    "from pylab import *\n",
    "import os\n",
    "import netCDF4\n",
    "from scipy.interpolate import RegularGridInterpolator"
   ]
  },
  {
   "cell_type": "code",
   "execution_count": null,
   "id": "89e6cc2d",
   "metadata": {},
   "outputs": [],
   "source": [
    "sim_data_dir = 'sim_data_BM1'"
   ]
  },
  {
   "cell_type": "code",
   "execution_count": null,
   "id": "0a3f6b8f",
   "metadata": {},
   "outputs": [],
   "source": [
    "eta_fname = os.path.join(sim_data_dir, 'zeta.nc')\n",
    "f = netCDF4.Dataset(eta_fname, 'r')\n",
    "time_numerical = array(f.variables['time'])\n",
    "x_numerical = array(f.variables['x'])\n",
    "zeta = squeeze(array(f.variables['zeta']))  # squeeze to get rid of y-dimension index\n",
    "#depth = array(f.variables['depth'])\n",
    "\n",
    "# numerical shift values - numerical domain was not same as physical domain\n",
    "x_shift=-10.  # added 10-m to offshore boundary to create wave\n",
    "#t_shift=20-.74  # cut off first 20 ish seconds since nothing happened\n",
    "t_shift=20-1.4  # cut off first 20 ish seconds since nothing happened\n",
    "\n",
    "time=time_numerical+t_shift\n",
    "x=x_numerical+x_shift"
   ]
  },
  {
   "cell_type": "code",
   "execution_count": null,
   "id": "815a23c4",
   "metadata": {},
   "outputs": [],
   "source": [
    "velo_fname = os.path.join(sim_data_dir, 'velo.nc')\n",
    "f = netCDF4.Dataset(velo_fname, 'r')\n",
    "u_vel = squeeze(array(f.variables['u_velo']))  # squeeze to get rid of y-dimension index"
   ]
  },
  {
   "cell_type": "code",
   "execution_count": null,
   "id": "8f5e66f9",
   "metadata": {},
   "outputs": [],
   "source": [
    "print('time.shape = ',time.shape)\n",
    "print('x.shape = ',x.shape)\n",
    "print('zeta.shape = ',zeta.shape)\n",
    "print('u_vel.shape = ',u_vel.shape)"
   ]
  },
  {
   "cell_type": "markdown",
   "id": "ebac94eb",
   "metadata": {},
   "source": [
    "#### Bilinear functions interpolating zeta and u_vel data:"
   ]
  },
  {
   "cell_type": "code",
   "execution_count": null,
   "id": "334078f2",
   "metadata": {},
   "outputs": [],
   "source": [
    "zeta_fcn = RegularGridInterpolator((time,x), zeta, method='linear')\n",
    "u_vel_fcn = RegularGridInterpolator((time,x), u_vel, method='linear')"
   ]
  },
  {
   "cell_type": "markdown",
   "id": "6d9077a4",
   "metadata": {},
   "source": [
    "### offshore wave gages"
   ]
  },
  {
   "cell_type": "code",
   "execution_count": null,
   "id": "9a1e47c8",
   "metadata": {},
   "outputs": [],
   "source": [
    "sim_data_dir = '/Users/rjl/D/BMdebris_2023-04-05/sim_data_BM1'"
   ]
  },
  {
   "cell_type": "code",
   "execution_count": null,
   "id": "53147587",
   "metadata": {},
   "outputs": [],
   "source": [
    "WG2_6 = loadtxt(os.path.join(sim_data_dir, 'WG2_6.txt')) \n",
    "\n",
    "WG2_loc = 2.26\n",
    "tx = vstack((time, WG2_loc*ones(time.shape))).T\n",
    "WG2_num = zeta_fcn(tx)\n",
    "\n",
    "WG6_loc = 19.22\n",
    "tx = vstack((time, WG6_loc*ones(time.shape))).T\n",
    "WG6_num = zeta_fcn(tx)\n",
    "\n",
    "figure(figsize=(10,6))\n",
    "plot(WG2_6[:,0],WG2_6[:,1] , 'r-', label='WG2 Data')\n",
    "plot(WG2_6[:,0],WG2_6[:,2], 'k-', label='WG6 Data')\n",
    "plot(time, WG2_num, 'r--', label='WG2 Model')\n",
    "plot(time, WG6_num, 'k--', label='WG6 Model')\n",
    "\n",
    "legend()\n",
    "xlabel('Time (s)')\n",
    "ylabel('eta (m)')\n",
    "axis([20, 55, -0.05, .5])\n",
    "grid(True);\n",
    "title('offshore wave gages');"
   ]
  },
  {
   "cell_type": "markdown",
   "id": "69102211",
   "metadata": {},
   "source": [
    "### nearshore US wave gages"
   ]
  },
  {
   "cell_type": "code",
   "execution_count": null,
   "id": "f3a264e9",
   "metadata": {},
   "outputs": [],
   "source": []
  },
  {
   "cell_type": "code",
   "execution_count": null,
   "id": "28c8e5ba",
   "metadata": {},
   "outputs": [],
   "source": [
    "USWG3 = loadtxt(os.path.join(sim_data_dir, 'USWG3.txt'))\n",
    "USWG4 = loadtxt(os.path.join(sim_data_dir, 'USWG4.txt'))\n",
    "\n",
    "USWG3_loc = 30.68\n",
    "tx = vstack((time, USWG3_loc*ones(time.shape))).T\n",
    "USWG3_num = zeta_fcn(tx)\n",
    "\n",
    "USWG4_loc=31.89\n",
    "tx = vstack((time, USWG4_loc*ones(time.shape))).T\n",
    "USWG4_num = zeta_fcn(tx)\n",
    "\n",
    "figure(figsize=(10,6))\n",
    "plot(USWG3[:,0],USWG3[:,1] , 'r-', label='usWG3 Data')\n",
    "plot(USWG4[:,0],USWG4[:,1], 'k-', label='usWG4 Data')\n",
    "plot(time, USWG3_num-USWG3_num[1], 'r--', label='usWG3 Model')\n",
    "plot(time, USWG4_num-USWG4_num[1], 'k--', label='usWG4 Model')\n",
    "\n",
    "legend()\n",
    "xlabel('Time (s)')\n",
    "ylabel('eta (m)')\n",
    "axis([20, 55, -0.05, .2])\n",
    "grid(True);\n",
    "title('nearshore US wave gages');"
   ]
  },
  {
   "cell_type": "markdown",
   "id": "e091fbc2",
   "metadata": {},
   "source": [
    "### nearshore ADV"
   ]
  },
  {
   "cell_type": "code",
   "execution_count": null,
   "id": "dcc22d44",
   "metadata": {},
   "outputs": [],
   "source": [
    "ADV2 = loadtxt(os.path.join(sim_data_dir, 'ADV2.txt'))\n",
    "\n",
    "ADV2_loc = USWG4_loc\n",
    "tx = vstack((time, ADV2_loc*ones(time.shape))).T\n",
    "ADV2_num = u_vel_fcn(tx)\n",
    "\n",
    "figure(figsize=(10,6))\n",
    "plot(ADV2[:,0],ADV2[:,1] , 'b-', label='ADV2 Data')\n",
    "plot(time, ADV2_num, 'k--', label='ADV2 Model')\n",
    "\n",
    "legend()\n",
    "xlabel('Time (s)')\n",
    "ylabel('u (m/s)')\n",
    "axis([20, 55, -1.2, 2.5])\n",
    "grid(True);\n",
    "title('nearshore ADV');"
   ]
  },
  {
   "cell_type": "code",
   "execution_count": null,
   "id": "4006cf81",
   "metadata": {},
   "outputs": [],
   "source": [
    "zeta.shape"
   ]
  },
  {
   "cell_type": "code",
   "execution_count": null,
   "id": "6ec79614",
   "metadata": {},
   "outputs": [],
   "source": []
  }
 ],
 "metadata": {
  "kernelspec": {
   "display_name": "Python 3 (ipykernel)",
   "language": "python",
   "name": "python3"
  },
  "language_info": {
   "codemirror_mode": {
    "name": "ipython",
    "version": 3
   },
   "file_extension": ".py",
   "mimetype": "text/x-python",
   "name": "python",
   "nbconvert_exporter": "python",
   "pygments_lexer": "ipython3",
   "version": "3.10.9"
  }
 },
 "nbformat": 4,
 "nbformat_minor": 5
}
